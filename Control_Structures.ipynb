{
 "cells": [
  {
   "cell_type": "markdown",
   "id": "52129c0b",
   "metadata": {},
   "source": [
    "## LOOPS (Iteration-based problems)\n",
    "\n"
   ]
  },
  {
   "cell_type": "markdown",
   "id": "76835f1e",
   "metadata": {},
   "source": [
    "### Problem 1\n",
    "<b> Daily Gas Fee Average </b>  \n",
    "Description: Calculate the average gas fee from a list of daily Ethereum gas fees.  \n",
    "Input: List of gas fees (e.g., [30, 40, 35, 50, 45])  \n",
    "Output: Average gas fee (e.g., 40.0)"
   ]
  },
  {
   "cell_type": "code",
   "execution_count": 1,
   "id": "d27e390a",
   "metadata": {},
   "outputs": [
    {
     "name": "stdout",
     "output_type": "stream",
     "text": [
      "Average gas fee is: 40.0\n"
     ]
    }
   ],
   "source": [
    "gas_fees = [30, 40, 35, 50, 45]\n",
    "total = 0\n",
    "\n",
    "for fee in gas_fees:\n",
    "    total += fee\n",
    "\n",
    "print('Average gas fee is:', total / len(gas_fees))"
   ]
  },
  {
   "cell_type": "markdown",
   "id": "690fe542",
   "metadata": {},
   "source": [
    "### Problem 2\n",
    "<b> Highest Daily Transaction Count </b>  \n",
    "Description: Find the day with the highest number of transactions on a blockchain.  \n",
    "Input: List of daily transaction counts (e.g., [1200, 1400, 1350, 1600, 1100])  \n",
    "Output: Day with the highest transaction count (e.g., Day 4)"
   ]
  },
  {
   "cell_type": "code",
   "execution_count": 2,
   "id": "b8c76edd",
   "metadata": {},
   "outputs": [
    {
     "name": "stdout",
     "output_type": "stream",
     "text": [
      "Day with the highest transaction count is: Day 4 with 1600 transactions\n"
     ]
    }
   ],
   "source": [
    "tx_counts = [1200, 1400, 1350, 1600, 1100]\n",
    "max_tx = 0\n",
    "\n",
    "for i in tx_counts:\n",
    "    if i > max_tx:\n",
    "        max_tx = i  \n",
    "day_with_max_tx = tx_counts.index(max_tx) + 1\n",
    "print(f'Day with the highest transaction count is: Day {day_with_max_tx} with {max_tx} transactions')"
   ]
  },
  {
   "cell_type": "markdown",
   "id": "19e92483",
   "metadata": {},
   "source": [
    "### Problem 3\n",
    "<b> Find Token Min/Max Price </b>  \n",
    "Description: Determine the lowest and highest price of a token over a week.  \n",
    "Input: List of prices (e.g., [2.1, 2.5, 2.0, 2.8, 2.6])  \n",
    "Output: Min: 2.0, Max: 2.8"
   ]
  },
  {
   "cell_type": "code",
   "execution_count": 3,
   "id": "69d124d2",
   "metadata": {},
   "outputs": [
    {
     "name": "stdout",
     "output_type": "stream",
     "text": [
      "Min: 2.0, Max: 2.8\n"
     ]
    }
   ],
   "source": [
    "prices = [2.1, 2.5, 2.0, 2.8, 2.6]\n",
    "min = prices[0]\n",
    "max = prices[0]\n",
    "\n",
    "for price in prices:\n",
    "    if price < min:\n",
    "        min = price\n",
    "    if price > max:\n",
    "        max = price\n",
    "\n",
    "print(f'Min: {min}, Max: {max}')\n"
   ]
  },
  {
   "cell_type": "markdown",
   "id": "28f0a91d",
   "metadata": {},
   "source": [
    "### Problem 4\n",
    "<b> Simple Moving Average for Token Price </b>  \n",
    "Description: Compute the simple moving average of a token’s price for a given window.  \n",
    "Input: Prices (e.g., [1.0, 1.2, 1.3, 1.4, 1.6]), Window size (e.g., 3)  \n",
    "Output: List of moving averages (e.g., [1.17, 1.3, 1.43])"
   ]
  },
  {
   "cell_type": "code",
   "execution_count": 4,
   "id": "55ad9c6e",
   "metadata": {},
   "outputs": [
    {
     "name": "stdout",
     "output_type": "stream",
     "text": [
      "Moving Averages: [1.17, 1.3, 1.43]\n"
     ]
    }
   ],
   "source": [
    "prices = [1.0, 1.2, 1.3, 1.4, 1.6]\n",
    "window_size = 3\n",
    "\n",
    "moving_averages = []\n",
    "for i in range(len(prices) - window_size + 1):\n",
    "    window = prices[i:i + window_size]\n",
    "    avg = round(sum(window) / window_size, 2)\n",
    "    moving_averages.append(avg)\n",
    "\n",
    "print('Moving Averages:', moving_averages)\n"
   ]
  },
  {
   "cell_type": "markdown",
   "id": "891b5af5",
   "metadata": {},
   "source": [
    "### Problem 5\n",
    "<b> Count Profitable Days on DEX </b>  \n",
    "Description: Count the number of days a trader had a positive return on a DEX.  \n",
    "Input: List of daily PnL (e.g., [0.03, -0.02, 0.01, 0.04, -0.01])  \n",
    "Output: Number of profitable days (e.g., 3 days)"
   ]
  },
  {
   "cell_type": "code",
   "execution_count": 5,
   "id": "445cbf21",
   "metadata": {},
   "outputs": [
    {
     "name": "stdout",
     "output_type": "stream",
     "text": [
      "Number of profitable days: 3\n"
     ]
    }
   ],
   "source": [
    "PnL = [0.03, -0.02, 0.01, 0.04, -0.01]\n",
    "profitable_days = 0\n",
    "for daily_pnl in PnL:\n",
    "    if daily_pnl > 0:\n",
    "        profitable_days += 1\n",
    "print(f'Number of profitable days: {profitable_days}')"
   ]
  },
  {
   "cell_type": "markdown",
   "id": "e450acd0",
   "metadata": {},
   "source": [
    "### Problem 6\n",
    "<b> Average Number of Tokens Held</b>  \n",
    "Description: Calculate the average number of tokens held across wallets.  \n",
    "Input: List of token holdings per wallet (e.g., [100, 200, 150, 300])  \n",
    "Output: Average tokens held (e.g., 187.5)\n"
   ]
  },
  {
   "cell_type": "code",
   "execution_count": 6,
   "id": "067a45fd",
   "metadata": {},
   "outputs": [
    {
     "name": "stdout",
     "output_type": "stream",
     "text": [
      "Average tokens held: 187.5\n"
     ]
    }
   ],
   "source": [
    "holdings = [100, 200, 150, 300]\n",
    "total = 0\n",
    "\n",
    "for i in holdings:\n",
    "    total += i\n",
    "average_tokens = total / len(holdings)\n",
    "print(f'Average tokens held: {average_tokens}')"
   ]
  },
  {
   "cell_type": "markdown",
   "id": "51414fb6",
   "metadata": {},
   "source": [
    "### Problem 7\n",
    "<b> Wallets Above Holding Threshold</b>  \n",
    "Description: Count the number of wallets holding more than 100 tokens.  \n",
    "Input: List of holdings (e.g., [50, 150, 120, 80, 200])  \n",
    "Output: Number of wallets above threshold (e.g., 3 wallets)"
   ]
  },
  {
   "cell_type": "code",
   "execution_count": 7,
   "id": "3e388eef",
   "metadata": {},
   "outputs": [
    {
     "name": "stdout",
     "output_type": "stream",
     "text": [
      "Number of wallets above holding threshold: 3\n"
     ]
    }
   ],
   "source": [
    "holdings = [50, 150, 120, 80, 200]\n",
    "wallets_above_threshold = 0\n",
    "\n",
    "for holding in holdings:\n",
    "    if holding > 100:\n",
    "        wallets_above_threshold += 1    \n",
    "print(f'Number of wallets above holding threshold: {wallets_above_threshold}')"
   ]
  },
  {
   "cell_type": "markdown",
   "id": "b2c43be7",
   "metadata": {},
   "source": [
    "### Problem 8\n",
    "<b> Total Gas Spent by Wallets </b>  \n",
    "Description: Calculate total gas used by multiple wallets across transactions.  \n",
    "Input: List of gas used per wallet (e.g., [21000, 50000, 32000])  \n",
    "Output: Total gas used (e.g., 103000)"
   ]
  },
  {
   "cell_type": "code",
   "execution_count": 8,
   "id": "77d5ab38",
   "metadata": {},
   "outputs": [
    {
     "name": "stdout",
     "output_type": "stream",
     "text": [
      "Total gas used: 103000\n"
     ]
    }
   ],
   "source": [
    "gas = [21000, 50000, 32000]\n",
    "total_gas = 0\n",
    "\n",
    "for i in gas:\n",
    "    total_gas += i\n",
    "print(f'Total gas used: {total_gas}')"
   ]
  },
  {
   "cell_type": "markdown",
   "id": "3437c5e5",
   "metadata": {},
   "source": [
    "### Problem 9\n",
    "<b> Token Airdrop </b>  \n",
    "Description: Calculate the total tokens distributed in an airdrop across multiple addresses.  \n",
    "Input: List of airdrop amounts (e.g., [50, 75, 100, 25])  \n",
    "Output: Total tokens distributed (e.g., 250)"
   ]
  },
  {
   "cell_type": "code",
   "execution_count": 9,
   "id": "3a64e290",
   "metadata": {},
   "outputs": [
    {
     "name": "stdout",
     "output_type": "stream",
     "text": [
      "The total tokens distributed is: 250\n"
     ]
    }
   ],
   "source": [
    "airdrop_amounts = [50, 75, 100, 25]\n",
    "total = 0\n",
    "\n",
    "for i in airdrop_amounts:\n",
    "    total += i\n",
    "print(f'The total tokens distributed is: {total}')"
   ]
  },
  {
   "cell_type": "markdown",
   "id": "f30f18f3",
   "metadata": {},
   "source": [
    "### Problem 10\n",
    "<b> Average Bridge Fee Across Chains </b>  \n",
    "Description: Find the average fee users pay when bridging tokens across chains.  \n",
    "Input: List of fees (e.g., [1.2, 0.8, 1.0, 1.5])  \n",
    "Output: Average fee (e.g., 1.125)"
   ]
  },
  {
   "cell_type": "code",
   "execution_count": 10,
   "id": "622431f6",
   "metadata": {},
   "outputs": [
    {
     "name": "stdout",
     "output_type": "stream",
     "text": [
      "Average fee: 1.125\n"
     ]
    }
   ],
   "source": [
    "fees = [1.2, 0.8, 1.0, 1.5]\n",
    "total = 0\n",
    "\n",
    "for i in fees: \n",
    "    total += i\n",
    "print('Average fee:', total/len(fees))"
   ]
  },
  {
   "cell_type": "markdown",
   "id": "6141bdb7",
   "metadata": {},
   "source": [
    "## CONDITIONAL STATEMENTS (Decision-making problems)"
   ]
  },
  {
   "cell_type": "markdown",
   "id": "8758e39c",
   "metadata": {},
   "source": [
    "### Problem 11\n",
    "<b> Token Price Classification </b>  \n",
    "Description: Classify a token’s price movement as “Bullish” if it increased, “Bearish” if decreased  \n",
    "Input: Previous price (e.g., 2.0), Current price (e.g., 2.3)  \n",
    "Output: Bullish"
   ]
  },
  {
   "cell_type": "code",
   "execution_count": 11,
   "id": "4f9d3202",
   "metadata": {},
   "outputs": [
    {
     "name": "stdout",
     "output_type": "stream",
     "text": [
      "Bullish\n"
     ]
    }
   ],
   "source": [
    "prev_price = 2.0\n",
    "curr_price = 2.3\n",
    "\n",
    "if curr_price > prev_price:\n",
    "    print('Bullish')\n",
    "else:\n",
    "     print('Bearish')"
   ]
  },
  {
   "cell_type": "markdown",
   "id": "6e52b2e6",
   "metadata": {},
   "source": [
    "### Problem 12\n",
    "<b> Gas Fee Alert System </b>  \n",
    "Description: Alert if Ethereum gas fee exceeds a given threshold (e.g., 100 Gwei).  \n",
    "Input: Gas fee (e.g., 120)  \n",
    "Output: \"High gas fee alert!\""
   ]
  },
  {
   "cell_type": "code",
   "execution_count": 12,
   "id": "6699a027",
   "metadata": {},
   "outputs": [
    {
     "name": "stdout",
     "output_type": "stream",
     "text": [
      "High gas fee alert!\n"
     ]
    }
   ],
   "source": [
    "gas_fee = int(input(\"Enter gas fee: \"))\n",
    "\n",
    "if gas_fee > 100:\n",
    "    print(\"High gas fee alert!\")\n",
    "else:\n",
    "    print(\"Low gas fee!\")"
   ]
  },
  {
   "cell_type": "markdown",
   "id": "ed849fd3",
   "metadata": {},
   "source": [
    "### Problem 13\n",
    "<b> Detect Whale Wallet </b>  \n",
    "Description: Identify if a wallet is a whale based on token balance (>10,000 tokens).  \n",
    "Input: Token balance (e.g., 15,000)  \n",
    "Output: Whale wallet"
   ]
  },
  {
   "cell_type": "code",
   "execution_count": 13,
   "id": "f2025881",
   "metadata": {},
   "outputs": [
    {
     "name": "stdout",
     "output_type": "stream",
     "text": [
      "Whale wallet\n"
     ]
    }
   ],
   "source": [
    "token_balance = 15000\n",
    "\n",
    "if token_balance > 10000:\n",
    "    print('Whale wallet')\n",
    "else:\n",
    "    print('Not a Whale')"
   ]
  },
  {
   "cell_type": "markdown",
   "id": "6d258f3b",
   "metadata": {},
   "source": [
    "### Problem 14\n",
    "<b> Token Transfer Flag </b>  \n",
    "Description: Flag a transaction as “Suspicious” if the amount is above 1 million tokens.  \n",
    "Input: Transfer amount (e.g., 1,200,000)  \n",
    "Output: Suspicious"
   ]
  },
  {
   "cell_type": "code",
   "execution_count": 14,
   "id": "f2f31a2d",
   "metadata": {},
   "outputs": [
    {
     "name": "stdout",
     "output_type": "stream",
     "text": [
      "Suspicious\n"
     ]
    }
   ],
   "source": [
    "amount = 1200000\n",
    "\n",
    "if amount > 1000000:\n",
    "    print('Suspicious')\n",
    "else:\n",
    "    print('Not Suspicious')"
   ]
  },
  {
   "cell_type": "markdown",
   "id": "921865ca",
   "metadata": {},
   "source": [
    "### Problem 15\n",
    "<b> DEX Slippage Warning </b>  \n",
    "Description: Warn users if the slippage is greater than 5%.  \n",
    "Input: Slippage percentage (e.g., 6.5)  \n",
    "Output: \"High slippage detected\""
   ]
  },
  {
   "cell_type": "code",
   "execution_count": 15,
   "id": "a20b801f",
   "metadata": {},
   "outputs": [
    {
     "name": "stdout",
     "output_type": "stream",
     "text": [
      "High slippage detected\n"
     ]
    }
   ],
   "source": [
    "slippage = 6.5\n",
    "\n",
    "if slippage > 5:\n",
    "    print('High slippage detected')\n",
    "else:\n",
    "    print('Slippage is not high')"
   ]
  },
  {
   "cell_type": "markdown",
   "id": "8bbecd4b",
   "metadata": {},
   "source": [
    "### Problem 16\n",
    "<b> NFT Mint Status Check </b>  \n",
    "Description: Check if an NFT is sold out or available for mint.  \n",
    "Input: Total supply (e.g., 10,000), Minted count (e.g., 10,000)  \n",
    "Output: Sold Out"
   ]
  },
  {
   "cell_type": "code",
   "execution_count": 16,
   "id": "fe67a341",
   "metadata": {},
   "outputs": [
    {
     "name": "stdout",
     "output_type": "stream",
     "text": [
      "Sold Out\n"
     ]
    }
   ],
   "source": [
    "Total_supply = 10000\n",
    "Minted_count = 10000\n",
    "\n",
    "if Total_supply == Minted_count:\n",
    "    print('Sold Out')\n",
    "else:\n",
    "    print ('Available for mint')"
   ]
  },
  {
   "cell_type": "markdown",
   "id": "f53cbd2a",
   "metadata": {},
   "source": [
    "### Problem 17\n",
    "<b> Stablecoin Health Check </b>  \n",
    "Description: Determine if a stablecoin is depegged (if price deviates from $1 by more than ±5%).  \n",
    "Input: Stablecoin price (e.g., 0.93)  \n",
    "Output: Depegged"
   ]
  },
  {
   "cell_type": "code",
   "execution_count": 17,
   "id": "98bbae47",
   "metadata": {},
   "outputs": [
    {
     "name": "stdout",
     "output_type": "stream",
     "text": [
      "Depegged\n"
     ]
    }
   ],
   "source": [
    "price_dep = 0.93\n",
    "\n",
    "if abs(price_dep - 1) > 0.05:\n",
    "    print('Depegged')\n",
    "else:\n",
    "    print('Healthy')"
   ]
  },
  {
   "cell_type": "markdown",
   "id": "b1a846b8",
   "metadata": {},
   "source": [
    "### Problem 18\n",
    "<b> Reward Eligibility </b>  \n",
    "Description: Check if a user qualifies for staking rewards (must stake ≥ 500 tokens).  \n",
    "Input: Tokens staked (e.g., 300)  \n",
    "Output: Not eligible"
   ]
  },
  {
   "cell_type": "code",
   "execution_count": 18,
   "id": "843ab601",
   "metadata": {},
   "outputs": [
    {
     "name": "stdout",
     "output_type": "stream",
     "text": [
      "Not eligible\n"
     ]
    }
   ],
   "source": [
    "Tokens_staked = 300\n",
    "\n",
    "if Tokens_staked >= 500:\n",
    "    print('Qualified')\n",
    "else:\n",
    "    print('Not eligible')"
   ]
  },
  {
   "cell_type": "markdown",
   "id": "aa52c515",
   "metadata": {},
   "source": [
    "### Problem 19\n",
    "<b> Airdrop Eligibility </b>  \n",
    "Description: Check if a wallet is eligible for airdrop (must hold a specific token and have at least 5 transactions).  \n",
    "Input: Holdings (e.g., 100), Number of transactions (e.g., 6)  \n",
    "Output: Eligible"
   ]
  },
  {
   "cell_type": "code",
   "execution_count": 19,
   "id": "b5ecda91",
   "metadata": {},
   "outputs": [
    {
     "name": "stdout",
     "output_type": "stream",
     "text": [
      "Eligible\n"
     ]
    }
   ],
   "source": [
    "holdings = 100\n",
    "txns = 6\n",
    "\n",
    "if holdings >= 1 and txns >= 5:\n",
    "    print('Eligible')\n",
    "else:\n",
    "    print('Not Eligible')"
   ]
  },
  {
   "cell_type": "markdown",
   "id": "ab8e6724",
   "metadata": {},
   "source": [
    "### Problem 20\n",
    "<b> Transaction Fee Efficiency </b>  \n",
    "Description: Flag if a transaction fee is greater than 5% of transaction amount.  \n",
    "Input: Fee (e.g., 3), Transaction amount (e.g., 50)  \n",
    "Output: Efficient"
   ]
  },
  {
   "cell_type": "code",
   "execution_count": 20,
   "id": "d63bacf7",
   "metadata": {},
   "outputs": [
    {
     "name": "stdout",
     "output_type": "stream",
     "text": [
      "Efficient\n"
     ]
    }
   ],
   "source": [
    "fee = 3\n",
    "tx_amount = 50\n",
    "\n",
    "if fee > tx_amount * 0.05:\n",
    "    print('Efficient')\n",
    "else:\n",
    "    print('Not Efficient')\n"
   ]
  }
 ],
 "metadata": {
  "kernelspec": {
   "display_name": "AssigEnv",
   "language": "python",
   "name": "python3"
  },
  "language_info": {
   "codemirror_mode": {
    "name": "ipython",
    "version": 3
   },
   "file_extension": ".py",
   "mimetype": "text/x-python",
   "name": "python",
   "nbconvert_exporter": "python",
   "pygments_lexer": "ipython3",
   "version": "3.12.0"
  }
 },
 "nbformat": 4,
 "nbformat_minor": 5
}
