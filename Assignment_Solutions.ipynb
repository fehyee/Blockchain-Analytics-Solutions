{
 "cells": [
  {
   "cell_type": "markdown",
   "id": "bdae34f9",
   "metadata": {},
   "source": [
    "### Problem 1: Cryptocurrency Token Data\n",
    "This data structure represents information about different cryptocurrency tokens listed on a decentralized exchange (DEX).\n",
    "\n",
    "```python\n",
    "crypto_tokens = [\n",
    "    {\n",
    "        \"name\": \"Token A\",\n",
    "        \"symbol\": \"TKA\",\n",
    "        \"blockchain\": \"Ethereum\",\n",
    "        \"current_price_usd\": 100.0,\n",
    "        \"transaction_history\": [\n",
    "            {\n",
    "                \"date\": \"2024-01-10\",\n",
    "                \"prices\": {\n",
    "                    \"open\": 98.0,\n",
    "                    \"close\": 100.0,\n",
    "                    \"high\": 101.0,\n",
    "                    \"low\": 97.0\n",
    "                },\n",
    "                \"volume\": 12000\n",
    "            },\n",
    "            {\n",
    "                \"date\": \"2024-01-09\",\n",
    "                \"prices\": {\n",
    "                    \"open\": 97.0,\n",
    "                    \"close\": 98.0,\n",
    "                    \"high\": 99.0,\n",
    "                    \"low\": 96.0\n",
    "                },\n",
    "                \"volume\": 15000\n",
    "            }\n",
    "        ],\n",
    "        \"supported_chains\": [\"Ethereum\", \"Polygon\"]\n",
    "    },\n",
    "    {\n",
    "        \"name\": \"Token B\",\n",
    "        \"symbol\": \"TKB\",\n",
    "        \"blockchain\": \"Binance Smart Chain\",\n",
    "        \"current_price_usd\": 200.0,\n",
    "        \"transaction_history\": [\n",
    "            {\n",
    "                \"date\": \"2024-01-10\",\n",
    "                \"prices\": {\n",
    "                    \"open\": 198.0,\n",
    "                    \"close\": 200.0,\n",
    "                    \"high\": 202.0,\n",
    "                    \"low\": 196.0\n",
    "                },\n",
    "                \"volume\": 18000\n",
    "            },\n",
    "            {\n",
    "                \"date\": \"2024-01-09\",\n",
    "                \"prices\": {\n",
    "                    \"open\": 196.0,\n",
    "                    \"close\": 198.0,\n",
    "                    \"high\": 199.0,\n",
    "                    \"low\": 195.0\n",
    "                },\n",
    "                \"volume\": 17000\n",
    "            }\n",
    "        ],\n",
    "        \"supported_chains\": [\"Binance Smart Chain\", \"Avalanche\"]\n",
    "    },\n",
    "    {\n",
    "        \"name\": \"Token C\",\n",
    "        \"symbol\": \"TKC\",\n",
    "        \"blockchain\": \"Solana\",\n",
    "        \"current_price_usd\": 300.0,\n",
    "        \"transaction_history\": [\n",
    "            {\n",
    "                \"date\": \"2024-01-10\",\n",
    "                \"prices\": {\n",
    "                    \"open\": 295.0,\n",
    "                    \"close\": 300.0,\n",
    "                    \"high\": 302.0,\n",
    "                    \"low\": 294.0\n",
    "                },\n",
    "                \"volume\": 22000\n",
    "            },\n",
    "            {\n",
    "                \"date\": \"2024-01-09\",\n",
    "                \"prices\": {\n",
    "                    \"open\": 294.0,\n",
    "                    \"close\": 295.0,\n",
    "                    \"high\": 296.0,\n",
    "                    \"low\": 293.0\n",
    "                },\n",
    "                \"volume\": 21000\n",
    "            }\n",
    "        ],\n",
    "        \"supported_chains\": [\"Solana\", \"Fantom\"]\n",
    "    }\n",
    "]\n",
    "```\n"
   ]
  },
  {
   "cell_type": "code",
   "execution_count": 1,
   "id": "0f0d33ad",
   "metadata": {},
   "outputs": [],
   "source": [
    "crypto_tokens = [\n",
    "    {\n",
    "        \"name\": \"Token A\",\n",
    "        \"symbol\": \"TKA\",\n",
    "        \"blockchain\": \"Ethereum\",\n",
    "        \"current_price_usd\": 100.0,\n",
    "        \"transaction_history\": [\n",
    "            {\n",
    "                \"date\": \"2024-01-10\",\n",
    "                \"prices\": {\n",
    "                    \"open\": 98.0,\n",
    "                    \"close\": 100.0,\n",
    "                    \"high\": 101.0,\n",
    "                    \"low\": 97.0\n",
    "                },\n",
    "                \"volume\": 12000\n",
    "            },\n",
    "            {\n",
    "                \"date\": \"2024-01-09\",\n",
    "                \"prices\": {\n",
    "                    \"open\": 97.0,\n",
    "                    \"close\": 98.0,\n",
    "                    \"high\": 99.0,\n",
    "                    \"low\": 96.0\n",
    "                },\n",
    "                \"volume\": 15000\n",
    "            }\n",
    "        ],\n",
    "        \"supported_chains\": [\"Ethereum\", \"Polygon\"]\n",
    "    },\n",
    "    {\n",
    "        \"name\": \"Token B\",\n",
    "        \"symbol\": \"TKB\",\n",
    "        \"blockchain\": \"Binance Smart Chain\",\n",
    "        \"current_price_usd\": 200.0,\n",
    "        \"transaction_history\": [\n",
    "            {\n",
    "                \"date\": \"2024-01-10\",\n",
    "                \"prices\": {\n",
    "                    \"open\": 198.0,\n",
    "                    \"close\": 200.0,\n",
    "                    \"high\": 202.0,\n",
    "                    \"low\": 196.0\n",
    "                },\n",
    "                \"volume\": 18000\n",
    "            },\n",
    "            {\n",
    "                \"date\": \"2024-01-09\",\n",
    "                \"prices\": {\n",
    "                    \"open\": 196.0,\n",
    "                    \"close\": 198.0,\n",
    "                    \"high\": 199.0,\n",
    "                    \"low\": 195.0\n",
    "                },\n",
    "                \"volume\": 17000\n",
    "            }\n",
    "        ],\n",
    "        \"supported_chains\": [\"Binance Smart Chain\", \"Avalanche\"]\n",
    "    },\n",
    "    {\n",
    "        \"name\": \"Token C\",\n",
    "        \"symbol\": \"TKC\",\n",
    "        \"blockchain\": \"Solana\",\n",
    "        \"current_price_usd\": 300.0,\n",
    "        \"transaction_history\": [\n",
    "            {\n",
    "                \"date\": \"2024-01-10\",\n",
    "                \"prices\": {\n",
    "                    \"open\": 295.0,\n",
    "                    \"close\": 300.0,\n",
    "                    \"high\": 302.0,\n",
    "                    \"low\": 294.0\n",
    "                },\n",
    "                \"volume\": 22000\n",
    "            },\n",
    "            {\n",
    "                \"date\": \"2024-01-09\",\n",
    "                \"prices\": {\n",
    "                    \"open\": 294.0,\n",
    "                    \"close\": 295.0,\n",
    "                    \"high\": 296.0,\n",
    "                    \"low\": 293.0\n",
    "                },\n",
    "                \"volume\": 21000\n",
    "            }\n",
    "        ],\n",
    "        \"supported_chains\": [\"Solana\", \"Fantom\"]\n",
    "    }\n",
    "]\n"
   ]
  },
  {
   "cell_type": "code",
   "execution_count": 2,
   "id": "ad1909b2",
   "metadata": {},
   "outputs": [
    {
     "name": "stdout",
     "output_type": "stream",
     "text": [
      "Current price of Token B: 200.0\n"
     ]
    }
   ],
   "source": [
    "# Q1: Read Data  \n",
    "# Task: Display the current price of \"Token B\".\n",
    "\n",
    "print(\"Current price of Token B:\", crypto_tokens[1][\"current_price_usd\"])"
   ]
  },
  {
   "cell_type": "code",
   "execution_count": 3,
   "id": "ae6462aa",
   "metadata": {},
   "outputs": [
    {
     "name": "stdout",
     "output_type": "stream",
     "text": [
      "{'name': 'Token D', 'symbol': 'TKD', 'blockchain': 'Cardano', 'current_price_usd': 150.0, 'transaction_history': [{'date': '2024-01-10', 'prices': {'open': 148.0, 'close': 150.0, 'high': 152.0, 'low': 147.0}, 'volume': 13000}, {'date': '2024-01-09', 'prices': {'open': 147.0, 'close': 148.0, 'high': 149.0, 'low': 146.0}, 'volume': 12500}], 'supported_chains': ['Cardano', 'Polkadot']}\n"
     ]
    }
   ],
   "source": [
    "# Q2: Write Data  \n",
    "# Task: Add a new token \"Token D\" with some initial data to the `crypto_tokens` list.\n",
    "\n",
    "crypto_tokens.append({\n",
    "    \"name\": \"Token D\",\n",
    "    \"symbol\": \"TKD\",\n",
    "    \"blockchain\": \"Cardano\",\n",
    "    \"current_price_usd\": 150.0,\n",
    "    \"transaction_history\": [\n",
    "        {\n",
    "            \"date\": \"2024-01-10\",\n",
    "            \"prices\": {\n",
    "                \"open\": 148.0,\n",
    "                \"close\": 150.0,\n",
    "                \"high\": 152.0,\n",
    "                \"low\": 147.0\n",
    "            },\n",
    "            \"volume\": 13000\n",
    "        },\n",
    "        {\n",
    "            \"date\": \"2024-01-09\",\n",
    "            \"prices\": {\n",
    "                \"open\": 147.0,\n",
    "                \"close\": 148.0,\n",
    "                \"high\": 149.0,\n",
    "                \"low\": 146.0\n",
    "            },\n",
    "            \"volume\": 12500\n",
    "        }\n",
    "    ],\n",
    "    \"supported_chains\": [\"Cardano\", \"Polkadot\"]\n",
    "})\n",
    "print(crypto_tokens[3])\n"
   ]
  },
  {
   "cell_type": "code",
   "execution_count": 4,
   "id": "aabcddfa",
   "metadata": {},
   "outputs": [
    {
     "data": {
      "text/plain": [
       "310.0"
      ]
     },
     "execution_count": 4,
     "metadata": {},
     "output_type": "execute_result"
    }
   ],
   "source": [
    "# Q3: Update Data  \n",
    "# Task: Update the current price of \"Token C\" to 310.0.\n",
    "\n",
    "crypto_tokens[2][\"current_price_usd\"] = 310.0\n",
    "\n",
    "crypto_tokens[2][\"current_price_usd\"]"
   ]
  },
  {
   "cell_type": "code",
   "execution_count": 5,
   "id": "1d689205",
   "metadata": {},
   "outputs": [
    {
     "data": {
      "text/plain": [
       "[{'name': 'Token A',\n",
       "  'symbol': 'TKA',\n",
       "  'blockchain': 'Ethereum',\n",
       "  'current_price_usd': 100.0,\n",
       "  'transaction_history': [{'date': '2024-01-10',\n",
       "    'prices': {'open': 98.0, 'close': 100.0, 'high': 101.0, 'low': 97.0},\n",
       "    'volume': 12000}],\n",
       "  'supported_chains': ['Ethereum', 'Polygon']},\n",
       " {'name': 'Token B',\n",
       "  'symbol': 'TKB',\n",
       "  'blockchain': 'Binance Smart Chain',\n",
       "  'current_price_usd': 200.0,\n",
       "  'transaction_history': [{'date': '2024-01-10',\n",
       "    'prices': {'open': 198.0, 'close': 200.0, 'high': 202.0, 'low': 196.0},\n",
       "    'volume': 18000},\n",
       "   {'date': '2024-01-09',\n",
       "    'prices': {'open': 196.0, 'close': 198.0, 'high': 199.0, 'low': 195.0},\n",
       "    'volume': 17000}],\n",
       "  'supported_chains': ['Binance Smart Chain', 'Avalanche']},\n",
       " {'name': 'Token C',\n",
       "  'symbol': 'TKC',\n",
       "  'blockchain': 'Solana',\n",
       "  'current_price_usd': 310.0,\n",
       "  'transaction_history': [{'date': '2024-01-10',\n",
       "    'prices': {'open': 295.0, 'close': 300.0, 'high': 302.0, 'low': 294.0},\n",
       "    'volume': 22000},\n",
       "   {'date': '2024-01-09',\n",
       "    'prices': {'open': 294.0, 'close': 295.0, 'high': 296.0, 'low': 293.0},\n",
       "    'volume': 21000}],\n",
       "  'supported_chains': ['Solana', 'Fantom']},\n",
       " {'name': 'Token D',\n",
       "  'symbol': 'TKD',\n",
       "  'blockchain': 'Cardano',\n",
       "  'current_price_usd': 150.0,\n",
       "  'transaction_history': [{'date': '2024-01-10',\n",
       "    'prices': {'open': 148.0, 'close': 150.0, 'high': 152.0, 'low': 147.0},\n",
       "    'volume': 13000},\n",
       "   {'date': '2024-01-09',\n",
       "    'prices': {'open': 147.0, 'close': 148.0, 'high': 149.0, 'low': 146.0},\n",
       "    'volume': 12500}],\n",
       "  'supported_chains': ['Cardano', 'Polkadot']}]"
      ]
     },
     "execution_count": 5,
     "metadata": {},
     "output_type": "execute_result"
    }
   ],
   "source": [
    "# Q4: Delete Data  \n",
    "# Task: Remove the transaction history for \"Token A\" on \"2024-01-09\".\n",
    "\n",
    "new_crypto_data = crypto_tokens # Copy the list to a new variable to avoid modifying the original list directly\n",
    "new_crypto_data[0][\"transaction_history\"].pop(1)\n",
    "new_crypto_data\n"
   ]
  },
  {
   "cell_type": "code",
   "execution_count": 6,
   "id": "96c03f18",
   "metadata": {},
   "outputs": [
    {
     "data": {
      "text/plain": [
       "200.0"
      ]
     },
     "execution_count": 6,
     "metadata": {},
     "output_type": "execute_result"
    }
   ],
   "source": [
    "# Q5: Read Nested Data  \n",
    "# Task: Display the closing price of \"Token B\" on \"2024-01-10\".\n",
    "\n",
    "crypto_tokens[1][\"transaction_history\"][0][\"prices\"][\"close\"]"
   ]
  },
  {
   "cell_type": "code",
   "execution_count": 7,
   "id": "c6775278",
   "metadata": {},
   "outputs": [
    {
     "data": {
      "text/plain": [
       "99.0"
      ]
     },
     "execution_count": 7,
     "metadata": {},
     "output_type": "execute_result"
    }
   ],
   "source": [
    "# Q6: Update Nested Data  \n",
    "# Task: Change the opening price of \"Token A\" on \"2024-01-10\" to 99.0.\n",
    "\n",
    "crypto_tokens[0][\"transaction_history\"][0][\"prices\"][\"open\"] = 99.0\n",
    "crypto_tokens[0][\"transaction_history\"][0][\"prices\"][\"open\"]"
   ]
  },
  {
   "cell_type": "code",
   "execution_count": 8,
   "id": "94b6ad2c",
   "metadata": {},
   "outputs": [
    {
     "data": {
      "text/plain": [
       "[{'date': '2024-01-10',\n",
       "  'prices': {'open': 295.0, 'close': 300.0, 'high': 302.0, 'low': 294.0},\n",
       "  'volume': 22000},\n",
       " {'date': '2024-01-09',\n",
       "  'prices': {'open': 294.0, 'close': 295.0, 'high': 296.0, 'low': 293.0},\n",
       "  'volume': 21000},\n",
       " {'date': '2024-01-11',\n",
       "  'prices': {'open': 305.0, 'close': 310.0, 'high': 312.0, 'low': 304.0},\n",
       "  'volume': 25000}]"
      ]
     },
     "execution_count": 8,
     "metadata": {},
     "output_type": "execute_result"
    }
   ],
   "source": [
    "# Q7: Add Nested Data  \n",
    "# Task: Add a new transaction history entry for \"Token C\" on \"2024-01-11\".\n",
    "\n",
    "crypto_tokens[2][\"transaction_history\"].append({\n",
    "    \"date\": \"2024-01-11\",\n",
    "    \"prices\": {\n",
    "        \"open\": 305.0,\n",
    "        \"close\": 310.0,\n",
    "        \"high\": 312.0,\n",
    "        \"low\": 304.0\n",
    "    },\n",
    "    \"volume\": 25000\n",
    "})\n",
    "crypto_tokens[2][\"transaction_history\"]"
   ]
  },
  {
   "cell_type": "code",
   "execution_count": 9,
   "id": "d8dbba88",
   "metadata": {},
   "outputs": [
    {
     "data": {
      "text/plain": [
       "['Binance Smart Chain']"
      ]
     },
     "execution_count": 9,
     "metadata": {},
     "output_type": "execute_result"
    }
   ],
   "source": [
    "# Q8: Delete an Item from a List Inside a Dictionary  \n",
    "# Task: Remove \"Avalanche\" from the supported chains of \"Token B\".\n",
    "\n",
    "crypto_tokens[1][\"supported_chains\"].remove(\"Avalanche\")\n",
    "crypto_tokens[1][\"supported_chains\"]"
   ]
  }
 ],
 "metadata": {
  "kernelspec": {
   "display_name": "AssigEnv",
   "language": "python",
   "name": "python3"
  },
  "language_info": {
   "codemirror_mode": {
    "name": "ipython",
    "version": 3
   },
   "file_extension": ".py",
   "mimetype": "text/x-python",
   "name": "python",
   "nbconvert_exporter": "python",
   "pygments_lexer": "ipython3",
   "version": "3.12.0"
  }
 },
 "nbformat": 4,
 "nbformat_minor": 5
}
